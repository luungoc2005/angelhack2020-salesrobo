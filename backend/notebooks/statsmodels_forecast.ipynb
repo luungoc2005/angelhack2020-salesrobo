{
 "metadata": {
  "language_info": {
   "codemirror_mode": {
    "name": "ipython",
    "version": 3
   },
   "file_extension": ".py",
   "mimetype": "text/x-python",
   "name": "python",
   "nbconvert_exporter": "python",
   "pygments_lexer": "ipython3",
   "version": "3.6.12-final"
  },
  "orig_nbformat": 2,
  "kernelspec": {
   "name": "python3",
   "display_name": "Python 3.6.12 64-bit ('ai-cpu': conda)",
   "metadata": {
    "interpreter": {
     "hash": "6d0de6affc1d1d51a9471af49b664385048622fcae16ac140effd745d978745b"
    }
   }
  }
 },
 "nbformat": 4,
 "nbformat_minor": 2,
 "cells": [
  {
   "cell_type": "code",
   "execution_count": 1,
   "metadata": {},
   "outputs": [],
   "source": [
    "from statsmodels.tsa.arima_model import ARIMA\n",
    "import pandas as pd"
   ]
  },
  {
   "cell_type": "code",
   "execution_count": 2,
   "metadata": {},
   "outputs": [
    {
     "output_type": "execute_result",
     "data": {
      "text/plain": [
       "         date  units_sold  price\n",
       "0  2020-03-02          11   1700\n",
       "1  2020-03-02          13   1700\n",
       "2  2020-03-02          10   1700\n",
       "3  2020-03-02          17   1700\n",
       "4  2020-03-02          18   1700"
      ],
      "text/html": "<div>\n<style scoped>\n    .dataframe tbody tr th:only-of-type {\n        vertical-align: middle;\n    }\n\n    .dataframe tbody tr th {\n        vertical-align: top;\n    }\n\n    .dataframe thead th {\n        text-align: right;\n    }\n</style>\n<table border=\"1\" class=\"dataframe\">\n  <thead>\n    <tr style=\"text-align: right;\">\n      <th></th>\n      <th>date</th>\n      <th>units_sold</th>\n      <th>price</th>\n    </tr>\n  </thead>\n  <tbody>\n    <tr>\n      <th>0</th>\n      <td>2020-03-02</td>\n      <td>11</td>\n      <td>1700</td>\n    </tr>\n    <tr>\n      <th>1</th>\n      <td>2020-03-02</td>\n      <td>13</td>\n      <td>1700</td>\n    </tr>\n    <tr>\n      <th>2</th>\n      <td>2020-03-02</td>\n      <td>10</td>\n      <td>1700</td>\n    </tr>\n    <tr>\n      <th>3</th>\n      <td>2020-03-02</td>\n      <td>17</td>\n      <td>1700</td>\n    </tr>\n    <tr>\n      <th>4</th>\n      <td>2020-03-02</td>\n      <td>18</td>\n      <td>1700</td>\n    </tr>\n  </tbody>\n</table>\n</div>"
     },
     "metadata": {},
     "execution_count": 2
    }
   ],
   "source": [
    "df = pd.read_csv('random_sales_data.csv', index_col=None)\n",
    "df.head()"
   ]
  },
  {
   "cell_type": "code",
   "execution_count": 3,
   "metadata": {},
   "outputs": [
    {
     "output_type": "execute_result",
     "data": {
      "text/plain": [
       "1    2.0\n",
       "2   -3.0\n",
       "3    7.0\n",
       "4    1.0\n",
       "5   -1.0\n",
       "Name: units_sold, dtype: float64"
      ]
     },
     "metadata": {},
     "execution_count": 3
    }
   ],
   "source": [
    "df_diff = df['units_sold'].diff().dropna()\n",
    "df_diff.head()"
   ]
  },
  {
   "cell_type": "code",
   "execution_count": 4,
   "metadata": {},
   "outputs": [
    {
     "output_type": "stream",
     "name": "stderr",
     "text": [
      "/home/luungoc2005/miniconda3/envs/ai-cpu/lib/python3.6/site-packages/statsmodels/tsa/base/tsa_model.py:579: ValueWarning: An unsupported index was provided and will be ignored when e.g. forecasting.\n",
      "  ' ignored when e.g. forecasting.', ValueWarning)\n",
      "/home/luungoc2005/miniconda3/envs/ai-cpu/lib/python3.6/site-packages/statsmodels/tsa/base/tsa_model.py:579: ValueWarning: An unsupported index was provided and will be ignored when e.g. forecasting.\n",
      "  ' ignored when e.g. forecasting.', ValueWarning)\n",
      "/home/luungoc2005/miniconda3/envs/ai-cpu/lib/python3.6/site-packages/statsmodels/base/model.py:568: ConvergenceWarning: Maximum Likelihood optimization failed to converge. Check mle_retvals\n",
      "  ConvergenceWarning)\n"
     ]
    },
    {
     "output_type": "execute_result",
     "data": {
      "text/plain": [
       "<class 'statsmodels.iolib.summary.Summary'>\n",
       "\"\"\"\n",
       "                             ARIMA Model Results                              \n",
       "==============================================================================\n",
       "Dep. Variable:           D.units_sold   No. Observations:                  264\n",
       "Model:                 ARIMA(5, 1, 0)   Log Likelihood                -723.835\n",
       "Method:                       css-mle   S.D. of innovations              3.736\n",
       "Date:                Sun, 22 Nov 2020   AIC                           1461.670\n",
       "Time:                        01:00:58   BIC                           1486.702\n",
       "Sample:                             1   HQIC                          1471.729\n",
       "                                                                              \n",
       "======================================================================================\n",
       "                         coef    std err          z      P>|z|      [0.025      0.975]\n",
       "--------------------------------------------------------------------------------------\n",
       "const                 -0.0066      0.040     -0.165      0.869      -0.085       0.072\n",
       "ar.L1.D.units_sold    -1.3756      0.060    -23.013      0.000      -1.493      -1.258\n",
       "ar.L2.D.units_sold    -1.3586      0.096    -14.212      0.000      -1.546      -1.171\n",
       "ar.L3.D.units_sold    -1.1322      0.107    -10.614      0.000      -1.341      -0.923\n",
       "ar.L4.D.units_sold    -0.6582      0.096     -6.829      0.000      -0.847      -0.469\n",
       "ar.L5.D.units_sold    -0.2512      0.060     -4.166      0.000      -0.369      -0.133\n",
       "                                    Roots                                    \n",
       "=============================================================================\n",
       "                  Real          Imaginary           Modulus         Frequency\n",
       "-----------------------------------------------------------------------------\n",
       "AR.1            0.2179           -1.2196j            1.2389           -0.2219\n",
       "AR.2            0.2179           +1.2196j            1.2389            0.2219\n",
       "AR.3           -1.2758           -0.0000j            1.2758           -0.5000\n",
       "AR.4           -0.8902           -1.1138j            1.4258           -0.3573\n",
       "AR.5           -0.8902           +1.1138j            1.4258            0.3573\n",
       "-----------------------------------------------------------------------------\n",
       "\"\"\""
      ],
      "text/html": "<table class=\"simpletable\">\n<caption>ARIMA Model Results</caption>\n<tr>\n  <th>Dep. Variable:</th>   <td>D.units_sold</td>   <th>  No. Observations:  </th>    <td>264</td>  \n</tr>\n<tr>\n  <th>Model:</th>          <td>ARIMA(5, 1, 0)</td>  <th>  Log Likelihood     </th> <td>-723.835</td>\n</tr>\n<tr>\n  <th>Method:</th>             <td>css-mle</td>     <th>  S.D. of innovations</th>   <td>3.736</td> \n</tr>\n<tr>\n  <th>Date:</th>          <td>Sun, 22 Nov 2020</td> <th>  AIC                </th> <td>1461.670</td>\n</tr>\n<tr>\n  <th>Time:</th>              <td>01:00:58</td>     <th>  BIC                </th> <td>1486.702</td>\n</tr>\n<tr>\n  <th>Sample:</th>                <td>1</td>        <th>  HQIC               </th> <td>1471.729</td>\n</tr>\n<tr>\n  <th></th>                       <td> </td>        <th>                     </th>     <td> </td>   \n</tr>\n</table>\n<table class=\"simpletable\">\n<tr>\n           <td></td>             <th>coef</th>     <th>std err</th>      <th>z</th>      <th>P>|z|</th>  <th>[0.025</th>    <th>0.975]</th>  \n</tr>\n<tr>\n  <th>const</th>              <td>   -0.0066</td> <td>    0.040</td> <td>   -0.165</td> <td> 0.869</td> <td>   -0.085</td> <td>    0.072</td>\n</tr>\n<tr>\n  <th>ar.L1.D.units_sold</th> <td>   -1.3756</td> <td>    0.060</td> <td>  -23.013</td> <td> 0.000</td> <td>   -1.493</td> <td>   -1.258</td>\n</tr>\n<tr>\n  <th>ar.L2.D.units_sold</th> <td>   -1.3586</td> <td>    0.096</td> <td>  -14.212</td> <td> 0.000</td> <td>   -1.546</td> <td>   -1.171</td>\n</tr>\n<tr>\n  <th>ar.L3.D.units_sold</th> <td>   -1.1322</td> <td>    0.107</td> <td>  -10.614</td> <td> 0.000</td> <td>   -1.341</td> <td>   -0.923</td>\n</tr>\n<tr>\n  <th>ar.L4.D.units_sold</th> <td>   -0.6582</td> <td>    0.096</td> <td>   -6.829</td> <td> 0.000</td> <td>   -0.847</td> <td>   -0.469</td>\n</tr>\n<tr>\n  <th>ar.L5.D.units_sold</th> <td>   -0.2512</td> <td>    0.060</td> <td>   -4.166</td> <td> 0.000</td> <td>   -0.369</td> <td>   -0.133</td>\n</tr>\n</table>\n<table class=\"simpletable\">\n<caption>Roots</caption>\n<tr>\n    <td></td>   <th>            Real</th>  <th>         Imaginary</th> <th>         Modulus</th>  <th>        Frequency</th>\n</tr>\n<tr>\n  <th>AR.1</th> <td>           0.2179</td> <td>          -1.2196j</td> <td>           1.2389</td> <td>          -0.2219</td>\n</tr>\n<tr>\n  <th>AR.2</th> <td>           0.2179</td> <td>          +1.2196j</td> <td>           1.2389</td> <td>           0.2219</td>\n</tr>\n<tr>\n  <th>AR.3</th> <td>          -1.2758</td> <td>          -0.0000j</td> <td>           1.2758</td> <td>          -0.5000</td>\n</tr>\n<tr>\n  <th>AR.4</th> <td>          -0.8902</td> <td>          -1.1138j</td> <td>           1.4258</td> <td>          -0.3573</td>\n</tr>\n<tr>\n  <th>AR.5</th> <td>          -0.8902</td> <td>          +1.1138j</td> <td>           1.4258</td> <td>           0.3573</td>\n</tr>\n</table>"
     },
     "metadata": {},
     "execution_count": 4
    }
   ],
   "source": [
    "model=ARIMA(df_diff, order=(5,1,0))\n",
    "results = model.fit(disp=0)\n",
    "results.summary()"
   ]
  },
  {
   "cell_type": "code",
   "execution_count": 6,
   "metadata": {},
   "outputs": [
    {
     "output_type": "stream",
     "name": "stderr",
     "text": [
      "/home/luungoc2005/miniconda3/envs/ai-cpu/lib/python3.6/site-packages/statsmodels/base/model.py:568: ConvergenceWarning: Maximum Likelihood optimization failed to converge. Check mle_retvals\n  ConvergenceWarning)\n"
     ]
    }
   ],
   "source": [
    "values = list(df_diff.values)\n",
    "preds = []\n",
    "last_value = df['units_sold'].values[-1]\n",
    "for t in range(30):\n",
    "    model=ARIMA(values, order=(5,1,0))\n",
    "    results = model.fit(disp=0)\n",
    "    output = results.forecast()[0]\n",
    "    last_value += output\n",
    "    preds.append(last_value)\n",
    "    values.append(last_value)"
   ]
  },
  {
   "cell_type": "code",
   "execution_count": 7,
   "metadata": {},
   "outputs": [
    {
     "output_type": "error",
     "ename": "ModuleNotFoundError",
     "evalue": "No module named 'matplotlib'",
     "traceback": [
      "\u001b[0;31m---------------------------------------------------------------------------\u001b[0m",
      "\u001b[0;31mModuleNotFoundError\u001b[0m                       Traceback (most recent call last)",
      "\u001b[0;32m<ipython-input-7-02aaac1810fb>\u001b[0m in \u001b[0;36m<module>\u001b[0;34m\u001b[0m\n\u001b[0;32m----> 1\u001b[0;31m \u001b[0;32mfrom\u001b[0m \u001b[0mmatplotlib\u001b[0m \u001b[0;32mimport\u001b[0m \u001b[0mpyplot\u001b[0m\u001b[0;34m\u001b[0m\u001b[0;34m\u001b[0m\u001b[0m\n\u001b[0m",
      "\u001b[0;31mModuleNotFoundError\u001b[0m: No module named 'matplotlib'"
     ]
    }
   ],
   "source": [
    "from matplotlib import pyplot"
   ]
  },
  {
   "cell_type": "code",
   "execution_count": null,
   "metadata": {},
   "outputs": [],
   "source": [
    "pyplot.plot(df['units_sold'].values)\n",
    "pyplot.plot(preds, color='red')\n",
    "pyplot.show())"
   ]
  }
 ]
}