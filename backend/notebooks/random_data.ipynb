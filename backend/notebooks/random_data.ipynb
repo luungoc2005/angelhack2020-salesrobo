{
 "cells": [
  {
   "cell_type": "code",
   "execution_count": 1,
   "metadata": {},
   "outputs": [],
   "source": [
    "from datetime import date, timedelta\n",
    "import pandas as pd\n",
    "import random"
   ]
  },
  {
   "cell_type": "code",
   "execution_count": 2,
   "metadata": {},
   "outputs": [
    {
     "output_type": "stream",
     "name": "stdout",
     "text": [
      "266\n"
     ]
    }
   ],
   "source": [
    "start_date = date(2020, 3, 1)\n",
    "end_date = date(2020, 11, 21)\n",
    "days = []\n",
    "for i in range(1, (end_date - start_date).days + 1):\n",
    "    days.append(start_date + timedelta(days=i))\n",
    "print(len(days))"
   ]
  },
  {
   "cell_type": "code",
   "execution_count": 3,
   "metadata": {},
   "outputs": [],
   "source": [
    "df = pd.DataFrame({\n",
    "    'date': days,\n",
    "    'units_sold': [random.randrange(10, 20) for _ in range(len(days))],\n",
    "    'price': [1700] * len(days)\n",
    "})"
   ]
  },
  {
   "cell_type": "code",
   "execution_count": 4,
   "metadata": {},
   "outputs": [],
   "source": [
    "df.to_csv('random_sales_data.csv', index=None)"
   ]
  },
  {
   "cell_type": "code",
   "execution_count": null,
   "metadata": {},
   "outputs": [],
   "source": []
  }
 ],
 "metadata": {
  "kernelspec": {
   "name": "python3",
   "display_name": "Python 3.8.5 64-bit",
   "metadata": {
    "interpreter": {
     "hash": "f2334e297762604fe95a1f8340c997fd10bf5abac30acddca95b24f9669305c3"
    }
   }
  }
 },
 "nbformat": 4,
 "nbformat_minor": 4
}