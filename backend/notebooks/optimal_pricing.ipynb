{
 "metadata": {
  "language_info": {
   "codemirror_mode": {
    "name": "ipython",
    "version": 3
   },
   "file_extension": ".py",
   "mimetype": "text/x-python",
   "name": "python",
   "nbconvert_exporter": "python",
   "pygments_lexer": "ipython3",
   "version": "3.7.4-final"
  },
  "orig_nbformat": 2,
  "kernelspec": {
   "name": "python3",
   "display_name": "Python 3"
  }
 },
 "nbformat": 4,
 "nbformat_minor": 2,
 "cells": [
  {
   "cell_type": "code",
   "execution_count": 2,
   "metadata": {},
   "outputs": [],
   "source": [
    "from os import path, getcwd\n",
    "import json"
   ]
  },
  {
   "cell_type": "code",
   "execution_count": 3,
   "metadata": {},
   "outputs": [],
   "source": [
    "DATA_PATH = path.join(getcwd(), '../sales_robo/products_data/data_amazon_laptop.json')\n",
    "assert path.isfile(DATA_PATH)"
   ]
  },
  {
   "cell_type": "code",
   "execution_count": 4,
   "metadata": {},
   "outputs": [],
   "source": [
    "with open(DATA_PATH, 'r') as fp:\n",
    "    data = json.load(fp)\n",
    "\n",
    "# filtering\n",
    "data = [\n",
    "    item for item in data\n",
    "    if item.get('price') is not None\n",
    "    and item.get('price') > 500\n",
    "    and item.get('sold') is not None\n",
    "    and item.get('sold') > 0\n",
    "]\n",
    "\n",
    "assert len(data) > 10"
   ]
  },
  {
   "cell_type": "code",
   "execution_count": 22,
   "metadata": {},
   "outputs": [],
   "source": [
    "X_train = [item['price'] for item in data]\n",
    "y_train = [item['sold'] for item in data]\n",
    "assert len(X_train) == len(y_train)\n",
    "import numpy as np\n",
    "\n",
    "X_train = np.log(np.array(X_train).reshape(-1, 1))\n",
    "y_train = np.log(np.array(y_train).reshape(-1, 1))"
   ]
  },
  {
   "cell_type": "code",
   "execution_count": 23,
   "metadata": {},
   "outputs": [],
   "source": [
    "from sklearn.linear_model import LinearRegression\n",
    "\n",
    "reg = LinearRegression().fit(X_train, y_train)"
   ]
  },
  {
   "cell_type": "code",
   "execution_count": 24,
   "metadata": {},
   "outputs": [
    {
     "output_type": "stream",
     "name": "stdout",
     "text": [
      "-1.8443188102861945\n"
     ]
    }
   ],
   "source": [
    "e = reg.coef_[0][0]\n",
    "print(e)"
   ]
  },
  {
   "cell_type": "code",
   "execution_count": 21,
   "metadata": {},
   "outputs": [
    {
     "output_type": "stream",
     "name": "stdout",
     "text": [
      "4022.816930319849\n"
     ]
    }
   ],
   "source": [
    "print(1700 * (e / (e + 1)))"
   ]
  },
  {
   "cell_type": "code",
   "execution_count": 26,
   "metadata": {},
   "outputs": [
    {
     "output_type": "stream",
     "name": "stdout",
     "text": [
      "0.1362187724042666\n"
     ]
    }
   ],
   "source": [
    "print(reg.score(X_train, y_train))"
   ]
  },
  {
   "cell_type": "code",
   "execution_count": null,
   "metadata": {},
   "outputs": [],
   "source": []
  }
 ]
}